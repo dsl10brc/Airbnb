{
 "cells": [
  {
   "cell_type": "code",
   "execution_count": 1,
   "metadata": {
    "collapsed": false
   },
   "outputs": [],
   "source": [
    "import pandas as pd\n",
    "import os\n",
    "import numpy as np\n",
    "from sklearn.preprocessing import LabelEncoder\n",
    "path = \"C:\\Users\\DEEPSAGAR\\Airbnb\\\\\"\n",
    "file = ['train_users.csv', 'age_gender_bkts.csv', 'sessions.csv', 'countries.csv', 'test_users.csv']\n",
    "data = {}\n",
    "### Get data ###\n",
    "for f in file:\n",
    "    data[f.replace('.csv','')]=pd.read_csv(path+f)\n",
    "    #print(f)\n",
    "    #print(data[f.replace('.csv','')].columns)"
   ]
  },
  {
   "cell_type": "code",
   "execution_count": 2,
   "metadata": {
    "collapsed": true
   },
   "outputs": [],
   "source": [
    "### Variables ###\n",
    "train = data['train_users']\n",
    "test = data['test_users']\n",
    "age = data['age_gender_bkts']\n",
    "\n",
    "sessions = data['sessions']\n",
    "sessions['id'] = sessions['user_id']\n",
    "sessions = sessions.drop(['user_id'],axis=1)\n",
    "country = data['countries']\n",
    "target = train['country_destination']\n",
    "train = train.drop(['country_destination'],axis=1)"
   ]
  },
  {
   "cell_type": "code",
   "execution_count": 3,
   "metadata": {
    "collapsed": false
   },
   "outputs": [
    {
     "data": {
      "text/html": [
       "<div style=\"max-height:1000px;max-width:1500px;overflow:auto;\">\n",
       "<table border=\"1\" class=\"dataframe\">\n",
       "  <thead>\n",
       "    <tr style=\"text-align: right;\">\n",
       "      <th></th>\n",
       "      <th>country_destination</th>\n",
       "      <th>lat_destination</th>\n",
       "      <th>lng_destination</th>\n",
       "      <th>distance_km</th>\n",
       "      <th>destination_km2</th>\n",
       "      <th>destination_language </th>\n",
       "      <th>language_levenshtein_distance</th>\n",
       "    </tr>\n",
       "  </thead>\n",
       "  <tbody>\n",
       "    <tr>\n",
       "      <th>0</th>\n",
       "      <td> AU</td>\n",
       "      <td>-26.853388</td>\n",
       "      <td> 133.275160</td>\n",
       "      <td> 15297.7440</td>\n",
       "      <td> 7741220</td>\n",
       "      <td> eng</td>\n",
       "      <td>  0.00</td>\n",
       "    </tr>\n",
       "    <tr>\n",
       "      <th>1</th>\n",
       "      <td> CA</td>\n",
       "      <td> 62.393303</td>\n",
       "      <td> -96.818146</td>\n",
       "      <td>  2828.1333</td>\n",
       "      <td> 9984670</td>\n",
       "      <td> eng</td>\n",
       "      <td>  0.00</td>\n",
       "    </tr>\n",
       "    <tr>\n",
       "      <th>2</th>\n",
       "      <td> DE</td>\n",
       "      <td> 51.165707</td>\n",
       "      <td>  10.452764</td>\n",
       "      <td>  7879.5680</td>\n",
       "      <td>  357022</td>\n",
       "      <td> deu</td>\n",
       "      <td> 72.61</td>\n",
       "    </tr>\n",
       "    <tr>\n",
       "      <th>3</th>\n",
       "      <td> ES</td>\n",
       "      <td> 39.896027</td>\n",
       "      <td>  -2.487694</td>\n",
       "      <td>  7730.7240</td>\n",
       "      <td>  505370</td>\n",
       "      <td> spa</td>\n",
       "      <td> 92.25</td>\n",
       "    </tr>\n",
       "    <tr>\n",
       "      <th>4</th>\n",
       "      <td> FR</td>\n",
       "      <td> 46.232193</td>\n",
       "      <td>   2.209667</td>\n",
       "      <td>  7682.9450</td>\n",
       "      <td>  643801</td>\n",
       "      <td> fra</td>\n",
       "      <td> 92.06</td>\n",
       "    </tr>\n",
       "    <tr>\n",
       "      <th>5</th>\n",
       "      <td> GB</td>\n",
       "      <td> 54.633220</td>\n",
       "      <td>  -3.432277</td>\n",
       "      <td>  6883.6590</td>\n",
       "      <td>  243610</td>\n",
       "      <td> eng</td>\n",
       "      <td>  0.00</td>\n",
       "    </tr>\n",
       "    <tr>\n",
       "      <th>6</th>\n",
       "      <td> IT</td>\n",
       "      <td> 41.873990</td>\n",
       "      <td>  12.564167</td>\n",
       "      <td>  8636.6310</td>\n",
       "      <td>  301340</td>\n",
       "      <td> ita</td>\n",
       "      <td> 89.40</td>\n",
       "    </tr>\n",
       "    <tr>\n",
       "      <th>7</th>\n",
       "      <td> NL</td>\n",
       "      <td> 52.133057</td>\n",
       "      <td>   5.295250</td>\n",
       "      <td>  7524.3203</td>\n",
       "      <td>   41543</td>\n",
       "      <td> nld</td>\n",
       "      <td> 63.22</td>\n",
       "    </tr>\n",
       "    <tr>\n",
       "      <th>8</th>\n",
       "      <td> PT</td>\n",
       "      <td> 39.553444</td>\n",
       "      <td>  -7.839319</td>\n",
       "      <td>  7355.2534</td>\n",
       "      <td>   92090</td>\n",
       "      <td> por</td>\n",
       "      <td> 95.45</td>\n",
       "    </tr>\n",
       "    <tr>\n",
       "      <th>9</th>\n",
       "      <td> US</td>\n",
       "      <td> 36.966427</td>\n",
       "      <td> -95.844030</td>\n",
       "      <td>     0.0000</td>\n",
       "      <td> 9826675</td>\n",
       "      <td> eng</td>\n",
       "      <td>  0.00</td>\n",
       "    </tr>\n",
       "  </tbody>\n",
       "</table>\n",
       "</div>"
      ],
      "text/plain": [
       "  country_destination  lat_destination  lng_destination  distance_km  \\\n",
       "0                  AU       -26.853388       133.275160   15297.7440   \n",
       "1                  CA        62.393303       -96.818146    2828.1333   \n",
       "2                  DE        51.165707        10.452764    7879.5680   \n",
       "3                  ES        39.896027        -2.487694    7730.7240   \n",
       "4                  FR        46.232193         2.209667    7682.9450   \n",
       "5                  GB        54.633220        -3.432277    6883.6590   \n",
       "6                  IT        41.873990        12.564167    8636.6310   \n",
       "7                  NL        52.133057         5.295250    7524.3203   \n",
       "8                  PT        39.553444        -7.839319    7355.2534   \n",
       "9                  US        36.966427       -95.844030       0.0000   \n",
       "\n",
       "   destination_km2 destination_language   language_levenshtein_distance  \n",
       "0          7741220                   eng                           0.00  \n",
       "1          9984670                   eng                           0.00  \n",
       "2           357022                   deu                          72.61  \n",
       "3           505370                   spa                          92.25  \n",
       "4           643801                   fra                          92.06  \n",
       "5           243610                   eng                           0.00  \n",
       "6           301340                   ita                          89.40  \n",
       "7            41543                   nld                          63.22  \n",
       "8            92090                   por                          95.45  \n",
       "9          9826675                   eng                           0.00  "
      ]
     },
     "execution_count": 3,
     "metadata": {},
     "output_type": "execute_result"
    }
   ],
   "source": [
    "country"
   ]
  },
  {
   "cell_type": "code",
   "execution_count": 4,
   "metadata": {
    "collapsed": false
   },
   "outputs": [
    {
     "name": "stdout",
     "output_type": "stream",
     "text": [
      "213451\n",
      "0\n",
      "('size of id:\\t', 62096)\n"
     ]
    }
   ],
   "source": [
    "del data\n",
    "##### Merging #####\n",
    "print(len(train))\n",
    "train1 = pd.merge(train,age,on='gender')\n",
    "test1 = pd.merge(test,age,on='gender')\n",
    "train2 = pd.merge(train,sessions,on='id')\n",
    "test2 = pd.merge(test,sessions,on='id')\n",
    "print(len(train1))\n",
    "id = train['id']\n",
    "train = train.drop(['id'],axis=1)\n",
    "train = train.fillna(0)\n",
    "test = test.fillna(0)\n",
    "id_test = test['id']\n",
    "print('size of id:\\t',len(id_test))\n",
    "test = test.drop(['id'],axis=1)\n",
    "labelencoder={}"
   ]
  },
  {
   "cell_type": "code",
   "execution_count": 5,
   "metadata": {
    "collapsed": false
   },
   "outputs": [
    {
     "name": "stdout",
     "output_type": "stream",
     "text": [
      "Type of columns\n",
      "Columns:\n",
      "date_account_created         int64\n",
      "timestamp_first_active       int64\n",
      "date_first_booking           int64\n",
      "gender                       int64\n",
      "age                        float64\n",
      "signup_method                int64\n",
      "signup_flow                  int64\n",
      "language                     int64\n",
      "affiliate_channel            int64\n",
      "affiliate_provider           int64\n",
      "first_affiliate_tracked      int64\n",
      "signup_app                   int64\n",
      "first_device_type            int64\n",
      "first_browser                int64\n",
      "dtype: object\n",
      "Columns test:\n",
      "date_account_created         int64\n",
      "timestamp_first_active       int64\n",
      "date_first_booking           int64\n",
      "gender                       int64\n",
      "age                        float64\n",
      "signup_method                int64\n",
      "signup_flow                  int64\n",
      "language                     int64\n",
      "affiliate_channel            int64\n",
      "affiliate_provider           int64\n",
      "first_affiliate_tracked      int64\n",
      "signup_app                   int64\n",
      "first_device_type            int64\n",
      "first_browser                int64\n",
      "dtype: object\n"
     ]
    }
   ],
   "source": [
    "def labelencoderCustom(data,labelencoder={}):\n",
    "    result = []\n",
    "    for i in data:\n",
    "        if i not in labelencoder:\n",
    "            labelencoder[i] = len(labelencoder)+1\n",
    "            result.append(labelencoder[i])\n",
    "        else:\n",
    "            result.append(labelencoder[i])\n",
    "    return result,labelencoder\n",
    "print('Type of columns')\n",
    "for col in train.columns:\n",
    "    if train[col].dtypes == object :\n",
    "        #train = train.drop([col],axis=1)\n",
    "        #le = LabelEncoder()\n",
    "        #print(set(train[col]))\n",
    "        #le.fit(list(train[col].values)+list(test[col].values))\n",
    "        \n",
    "        train[col],labelencoder = labelencoderCustom(train[col].values,labelencoder)\n",
    "        test[col],labelencoder =  labelencoderCustom(test[col].values,labelencoder)\n",
    "print('Columns:')\n",
    "print(train.dtypes)\n",
    "print('Columns test:')\n",
    "print(test.dtypes)\n",
    "from sklearn.ensemble import RandomForestClassifier\n",
    "rf = RandomForestClassifier(n_estimators=600)\n",
    "rf = rf.fit(train,target)\n"
   ]
  },
  {
   "cell_type": "code",
   "execution_count": 6,
   "metadata": {
    "collapsed": true
   },
   "outputs": [],
   "source": [
    "sample_submission = {}\n",
    "sample_submission['id'] = id_test\n",
    "#print(len(test))\n",
    "#print(len(sample_submission['id'].values))\n",
    "#print(sample_submission.columns)\n",
    "sample_submission['country'] = rf.predict(test)\n",
    "s = pd.DataFrame.from_dict(sample_submission)\n",
    "s.to_csv('sub.csv',index=False)"
   ]
  },
  {
   "cell_type": "code",
   "execution_count": null,
   "metadata": {
    "collapsed": true
   },
   "outputs": [],
   "source": []
  }
 ],
 "metadata": {
  "anaconda-cloud": {},
  "kernelspec": {
   "display_name": "Python [Root]",
   "language": "python",
   "name": "Python [Root]"
  },
  "language_info": {
   "codemirror_mode": {
    "name": "ipython",
    "version": 2
   },
   "file_extension": ".py",
   "mimetype": "text/x-python",
   "name": "python",
   "nbconvert_exporter": "python",
   "pygments_lexer": "ipython2",
   "version": "2.7.12"
  }
 },
 "nbformat": 4,
 "nbformat_minor": 0
}
